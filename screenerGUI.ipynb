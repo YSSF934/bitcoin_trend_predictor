{
 "cells": [
  {
   "cell_type": "code",
   "execution_count": 1,
   "metadata": {},
   "outputs": [
    {
     "ename": "SystemExit",
     "evalue": "0",
     "output_type": "error",
     "traceback": [
      "An exception has occurred, use %tb to see the full traceback.\n",
      "\u001b[1;31mSystemExit\u001b[0m\u001b[1;31m:\u001b[0m 0\n"
     ]
    },
    {
     "name": "stderr",
     "output_type": "stream",
     "text": [
      "C:\\Users\\Yaron\\anaconda3\\lib\\site-packages\\IPython\\core\\interactiveshell.py:3426: UserWarning: To exit: use 'exit', 'quit', or Ctrl-D.\n",
      "  warn(\"To exit: use 'exit', 'quit', or Ctrl-D.\", stacklevel=1)\n"
     ]
    }
   ],
   "source": [
    "import sys\n",
    "\n",
    "from PyQt5.QtWidgets import (\n",
    "    QApplication,\n",
    "    QPushButton,\n",
    "    QVBoxLayout,\n",
    "    QWidget,\n",
    ")\n",
    "\n",
    "class Window(QWidget):\n",
    "    def __init__(self):\n",
    "        super().__init__()\n",
    "        self.setWindowTitle(\"QVBoxLayout Example\")\n",
    "        self.resize(270, 110)\n",
    "        # Create a QVBoxLayout instance\n",
    "        layout = QVBoxLayout()\n",
    "        # Add widgets to the layout\n",
    "        layout.addWidget(QPushButton(\"New York\"))\n",
    "        layout.addWidget(QPushButton(\"LA\"))\n",
    "        layout.addWidget(QPushButton(\"Florida!\"))\n",
    "        # Set the layout on the application's window\n",
    "        self.setLayout(layout)\n",
    "\n",
    "if __name__ == \"__main__\":\n",
    "    app = QApplication(sys.argv)\n",
    "    window = Window()\n",
    "    window.show()\n",
    "    sys.exit(app.exec_())"
   ]
  }
 ],
 "metadata": {
  "kernelspec": {
   "display_name": "Python 3",
   "language": "python",
   "name": "python3"
  },
  "language_info": {
   "codemirror_mode": {
    "name": "ipython",
    "version": 3
   },
   "file_extension": ".py",
   "mimetype": "text/x-python",
   "name": "python",
   "nbconvert_exporter": "python",
   "pygments_lexer": "ipython3",
   "version": "3.8.5"
  }
 },
 "nbformat": 4,
 "nbformat_minor": 4
}
